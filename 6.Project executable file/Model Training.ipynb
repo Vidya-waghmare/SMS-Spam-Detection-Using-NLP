{
 "cells": [
  {
   "cell_type": "code",
   "execution_count": null,
   "id": "6233a7cd-3950-497d-b6db-ca05aba337c1",
   "metadata": {},
   "outputs": [],
   "source": [
    "import numpy as np\n",
    "import pandas as pd\n",
    "import re\n",
    "import nltk\n",
    "from nltk.corpus import stopwords\n",
    "from nltk.stem.porter import PorterStemmer\n",
    "from sklearn.feature_extraction.text import CountVectorizer\n",
    "from sklearn.model_selection import train_test_split\n",
    "from sklearn.naive_bayes import MultinomialNB\n",
    "import pickle"
   ]
  },
  {
   "cell_type": "code",
   "execution_count": null,
   "id": "a0ab3f4c-7246-445f-9867-93627df093ed",
   "metadata": {},
   "outputs": [],
   "source": [
    "# Load the dataset\n",
    "df = pd.read_csv(\"spam_ham_dataset.csv\")"
   ]
  },
  {
   "cell_type": "code",
   "execution_count": null,
   "id": "e630566f-ca9c-4e33-af91-ae7aad13cee8",
   "metadata": {},
   "outputs": [],
   "source": [
    "# Drop the column 'Unnamed: 0'\n",
    "df = df.drop(\"Unnamed: 0\", axis=1)"
   ]
  },
  {
   "cell_type": "code",
   "execution_count": null,
   "id": "ec2589fa-dd32-48d7-80d5-68d0e44286e0",
   "metadata": {},
   "outputs": [],
   "source": [
    "# Preprocess the text data\n",
    "nltk.download('stopwords')\n",
    "corpus = []\n",
    "for i in range(0, len(df)):\n",
    "    text = re.sub(\"[^a-zA-Z0-9]\", \" \", df[\"text\"][i])\n",
    "    text = text.lower()\n",
    "    text = text.split()\n",
    "    ps = PorterStemmer()\n",
    "    text = [ps.stem(word) for word in text if not word in set(stopwords.words(\"english\"))]\n",
    "    text = \" \".join(text)\n",
    "    corpus.append(text)"
   ]
  },
  {
   "cell_type": "code",
   "execution_count": null,
   "id": "6132b0a7-6037-457b-867f-7c8b262b8c6a",
   "metadata": {},
   "outputs": [],
   "source": [
    "# Vectorize the text data\n",
    "cv = CountVectorizer(max_features=35000)\n",
    "X = cv.fit_transform(corpus).toarray()\n",
    "y = pd.get_dummies(df['label'])['spam'].values"
   ]
  },
  {
   "cell_type": "code",
   "execution_count": null,
   "id": "9a9ef390-4a52-4801-b58b-993c2cbec4f8",
   "metadata": {},
   "outputs": [],
   "source": [
    "# Split data into training and test sets\n",
    "X_train, X_test, y_train, y_test = train_test_split(X, y, test_size=0.20, random_state=0)\n",
    "\n"
   ]
  },
  {
   "cell_type": "code",
   "execution_count": null,
   "id": "81b06c8d-3b76-4a89-940e-47c661f1f415",
   "metadata": {},
   "outputs": [],
   "source": [
    "# Train the model\n",
    "model = MultinomialNB()\n",
    "model.fit(X_train, y_train)"
   ]
  },
  {
   "cell_type": "code",
   "execution_count": null,
   "id": "c43bf9b9-eebf-4e7a-9b89-70bf85aa9a85",
   "metadata": {},
   "outputs": [],
   "source": [
    "# Save the model and vectorizer\n",
    "pickle.dump(model, open(\"spam-sms-mnb-model.pkl\", \"wb\"))\n",
    "pickle.dump(cv, open('cv-transform.pkl', 'wb'))\n"
   ]
  }
 ],
 "metadata": {
  "kernelspec": {
   "display_name": "Python 3 (ipykernel)",
   "language": "python",
   "name": "python3"
  },
  "language_info": {
   "codemirror_mode": {
    "name": "ipython",
    "version": 3
   },
   "file_extension": ".py",
   "mimetype": "text/x-python",
   "name": "python",
   "nbconvert_exporter": "python",
   "pygments_lexer": "ipython3",
   "version": "3.12.7"
  }
 },
 "nbformat": 4,
 "nbformat_minor": 5
}
