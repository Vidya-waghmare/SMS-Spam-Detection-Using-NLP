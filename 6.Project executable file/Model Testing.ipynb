{
 "cells": [
  {
   "cell_type": "code",
   "execution_count": null,
   "id": "cd5f6bb8-0c9c-431e-ab45-ffcb2c5ee5bd",
   "metadata": {},
   "outputs": [],
   "source": [
    "import numpy as np\n",
    "import pandas as pd\n",
    "import re\n",
    "import nltk\n",
    "from nltk.corpus import stopwords\n",
    "from nltk.stem.porter import PorterStemmer\n",
    "from sklearn.feature_extraction.text import CountVectorizer\n",
    "from sklearn.model_selection import train_test_split\n",
    "from sklearn.metrics import confusion_matrix, accuracy_score\n",
    "import pickle"
   ]
  },
  {
   "cell_type": "code",
   "execution_count": null,
   "id": "15bf01d3-099f-411f-9282-a0fa9cb3cdf4",
   "metadata": {},
   "outputs": [],
   "source": [
    "# Load the dataset\n",
    "df = pd.read_csv(\"spam_ham_dataset.csv\")"
   ]
  },
  {
   "cell_type": "code",
   "execution_count": null,
   "id": "f9e0a71c-9ee0-428a-8b48-3ec3460de1a7",
   "metadata": {},
   "outputs": [],
   "source": [
    "# Drop the column 'Unnamed: 0'\n",
    "df = df.drop(\"Unnamed: 0\", axis=1)"
   ]
  },
  {
   "cell_type": "code",
   "execution_count": null,
   "id": "8dee167f-0da2-42e6-bb27-997b1302e107",
   "metadata": {},
   "outputs": [],
   "source": [
    "# Preprocess the text data (this part should ideally be the same as what was done during training)\n",
    "nltk.download('stopwords')\n",
    "corpus = []\n",
    "for i in range(0, len(df)):\n",
    "    text = re.sub(\"[^a-zA-Z0-9]\", \" \", df[\"text\"][i])\n",
    "    text = text.lower()\n",
    "    text = text.split()\n",
    "    ps = PorterStemmer()\n",
    "    text = [ps.stem(word) for word in text if not word in set(stopwords.words(\"english\"))]\n",
    "    text = \" \".join(text)\n",
    "    corpus.append(text)"
   ]
  },
  {
   "cell_type": "code",
   "execution_count": null,
   "id": "7cba5cbc-3bb9-44ef-8c31-c36a8f58431b",
   "metadata": {},
   "outputs": [],
   "source": [
    "# Load the trained model and vectorizer\n",
    "model = pickle.load(open(\"spam-sms-mnb-model.pkl\", \"rb\"))\n",
    "cv = pickle.load(open('cv-transform.pkl', 'rb'))"
   ]
  },
  {
   "cell_type": "code",
   "execution_count": null,
   "id": "9fe9c1e8-208d-44b5-9cc2-a088fac39e35",
   "metadata": {},
   "outputs": [],
   "source": [
    "# Transform the test data using the vectorizer\n",
    "X_test = cv.transform(corpus).toarray()\n",
    "y_test = pd.get_dummies(df['label'])['spam'].values"
   ]
  },
  {
   "cell_type": "code",
   "execution_count": null,
   "id": "5b680f75-b07e-4113-902e-a88e5dc9cd46",
   "metadata": {},
   "outputs": [],
   "source": [
    "# Predict the values\n",
    "y_pred = model.predict(X_test)"
   ]
  },
  {
   "cell_type": "code",
   "execution_count": null,
   "id": "6f4afda2-2729-4eb4-92a6-41f28e886cc5",
   "metadata": {},
   "outputs": [],
   "source": [
    "# Convert predictions from boolean to integer (if needed)\n",
    "y_pred = y_pred.astype(int)\n",
    "# Print the predictions\n",
    "print(y_pred)"
   ]
  },
  {
   "cell_type": "code",
   "execution_count": null,
   "id": "3d945fe0-8b0f-425e-93f7-b2e2b8489b70",
   "metadata": {},
   "outputs": [],
   "source": [
    "# Calculate the confusion matrix and accuracy score\n",
    "cm = confusion_matrix(y_test, y_pred)\n",
    "score = accuracy_score(y_test, y_pred)"
   ]
  },
  {
   "cell_type": "code",
   "execution_count": null,
   "id": "309ee25c-428c-4a08-85db-901b7b46fb2b",
   "metadata": {},
   "outputs": [],
   "source": [
    "# Print the confusion matrix and accuracy score\n",
    "print(cm)\n",
    "print('Accuracy Score Is:', score * 100)"
   ]
  }
 ],
 "metadata": {
  "kernelspec": {
   "display_name": "Python 3 (ipykernel)",
   "language": "python",
   "name": "python3"
  },
  "language_info": {
   "codemirror_mode": {
    "name": "ipython",
    "version": 3
   },
   "file_extension": ".py",
   "mimetype": "text/x-python",
   "name": "python",
   "nbconvert_exporter": "python",
   "pygments_lexer": "ipython3",
   "version": "3.12.7"
  }
 },
 "nbformat": 4,
 "nbformat_minor": 5
}
