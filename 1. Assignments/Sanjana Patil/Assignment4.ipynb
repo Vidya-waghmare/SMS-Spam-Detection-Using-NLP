{
  "nbformat": 4,
  "nbformat_minor": 0,
  "metadata": {
    "colab": {
      "provenance": [],
      "gpuType": "T4"
    },
    "kernelspec": {
      "name": "python3",
      "display_name": "Python 3"
    },
    "language_info": {
      "name": "python"
    },
    "accelerator": "GPU"
  },
  "cells": [
    {
      "cell_type": "code",
      "execution_count": null,
      "metadata": {
        "id": "w3VdEExVetvi"
      },
      "outputs": [],
      "source": [
        "import sqlite3\n",
        "\n",
        "def init_db():\n",
        "    conn = sqlite3.connect('tasks.db')\n",
        "    c = conn.cursor()\n",
        "    c.execute('''\n",
        "        CREATE TABLE IF NOT EXISTS tasks (\n",
        "            id INTEGER PRIMARY KEY,\n",
        "            description TEXT NOT NULL,\n",
        "            status INTEGER NOT NULL CHECK (status IN (0, 1))\n",
        "        )\n",
        "    ''')\n",
        "    conn.commit()\n",
        "    conn.close()\n",
        "\n",
        "if __name__ == '__main__':\n",
        "    init_db()\n"
      ]
    },
    {
      "cell_type": "code",
      "source": [
        "from flask import Flask, request, render_template, redirect, url_for\n",
        "import sqlite3\n",
        "\n",
        "app = Flask(__name__)\n",
        "\n",
        "def get_db_connection():\n",
        "    conn = sqlite3.connect('tasks.db')\n",
        "    conn.row_factory = sqlite3.Row\n",
        "    return conn"
      ],
      "metadata": {
        "id": "dOU23TvAexS6"
      },
      "execution_count": null,
      "outputs": []
    },
    {
      "cell_type": "code",
      "source": [
        "@app.route('/')\n",
        "def index():\n",
        "    conn = get_db_connection()\n",
        "    tasks = conn.execute('SELECT * FROM tasks').fetchall()\n",
        "    conn.close()\n",
        "    return render_template('home.html', tasks=tasks)"
      ],
      "metadata": {
        "id": "KL6o-gxbe3sX"
      },
      "execution_count": null,
      "outputs": []
    },
    {
      "cell_type": "code",
      "source": [
        "@app.route('/create', methods=('GET', 'POST'))\n",
        "def create():\n",
        "    if request.method == 'POST':\n",
        "        description = request.form['description']\n",
        "        status = request.form['status']\n",
        "\n",
        "        conn = get_db_connection()\n",
        "        conn.execute('INSERT INTO tasks (description, status) VALUES (?, ?)',\n",
        "                     (description, status))\n",
        "        conn.commit()\n",
        "        conn.close()\n",
        "        return redirect(url_for('index'))\n",
        "\n",
        "    return render_template('create.html')\n"
      ],
      "metadata": {
        "id": "fBaH__Vte6ii"
      },
      "execution_count": null,
      "outputs": []
    },
    {
      "cell_type": "code",
      "source": [
        "@app.route('/update/<int:id>', methods=('GET', 'POST'))\n",
        "def update(id):\n",
        "    conn = get_db_connection()\n",
        "    task = conn.execute('SELECT * FROM tasks WHERE id = ?', (id,)).fetchone()\n",
        "\n",
        "    if request.method == 'POST':\n",
        "        description = request.form['description']\n",
        "        status = request.form['status']\n",
        "\n",
        "        conn.execute('UPDATE tasks SET description = ?, status = ? WHERE id = ?',\n",
        "                     (description, status, id))\n",
        "        conn.commit()\n",
        "        conn.close()\n",
        "        return redirect(url_for('index'))\n",
        "\n",
        "    return render_template('update.html', task=task)"
      ],
      "metadata": {
        "id": "qu4hlkjae6PK"
      },
      "execution_count": null,
      "outputs": []
    },
    {
      "cell_type": "code",
      "source": [
        "\n",
        "def delete(id):\n",
        "    conn = get_db_connection()\n",
        "    conn.execute('DELETE FROM tasks WHERE id = ?', (id,))\n",
        "    conn.commit()\n",
        "    conn.close()\n",
        "    return redirect(url_for('index'))\n",
        "\n"
      ],
      "metadata": {
        "id": "wxTVBiNhfCVR"
      },
      "execution_count": 6,
      "outputs": []
    },
    {
      "cell_type": "code",
      "source": [
        "!pip install flask\n"
      ],
      "metadata": {
        "colab": {
          "base_uri": "https://localhost:8080/"
        },
        "id": "glNjWLbP9dio",
        "outputId": "4851e564-7fc3-4627-c586-64815c473d9d"
      },
      "execution_count": 16,
      "outputs": [
        {
          "output_type": "stream",
          "name": "stdout",
          "text": [
            "Requirement already satisfied: flask in /usr/local/lib/python3.10/dist-packages (3.0.3)\n",
            "Requirement already satisfied: Werkzeug>=3.0.0 in /usr/local/lib/python3.10/dist-packages (from flask) (3.1.3)\n",
            "Requirement already satisfied: Jinja2>=3.1.2 in /usr/local/lib/python3.10/dist-packages (from flask) (3.1.4)\n",
            "Requirement already satisfied: itsdangerous>=2.1.2 in /usr/local/lib/python3.10/dist-packages (from flask) (2.2.0)\n",
            "Requirement already satisfied: click>=8.1.3 in /usr/local/lib/python3.10/dist-packages (from flask) (8.1.7)\n",
            "Requirement already satisfied: blinker>=1.6.2 in /usr/local/lib/python3.10/dist-packages (from flask) (1.9.0)\n",
            "Requirement already satisfied: MarkupSafe>=2.0 in /usr/local/lib/python3.10/dist-packages (from Jinja2>=3.1.2->flask) (3.0.2)\n"
          ]
        }
      ]
    },
    {
      "cell_type": "code",
      "source": [
        "from jinja2 import Template\n"
      ],
      "metadata": {
        "id": "JFvnPhfTnV8M"
      },
      "execution_count": 27,
      "outputs": []
    },
    {
      "cell_type": "code",
      "source": [
        "template_string = \"\"\"\n",
        "<!DOCTYPE html>\n",
        "<html lang=\"en\">\n",
        "<head>\n",
        "    <meta charset=\"UTF-8\">\n",
        "    <title>Task List</title>\n",
        "</head>\n",
        "<body>\n",
        "    <h1>Task List</h1>\n",
        "    <a href=\"{{ url_for('create') }}\">Create New Task</a>\n",
        "    <ul>\n",
        "        {% for task in tasks %}\n",
        "        <li>\n",
        "            {{ task.description }} - {% if task.status == 1 %}Complete{% else %}Incomplete{% endif %}\n",
        "            <a href=\"{{ url_for('update', id=task.id) }}\">Edit</a>\n",
        "            <form action=\"{{ url_for('delete', id=task.id) }}\" method=\"post\" style=\"display:inline;\">\n",
        "                <button type=\"submit\">Delete</button>\n",
        "            </form>\n",
        "        </li>\n",
        "        {% endfor %}\n",
        "    </ul>\n",
        "</body>\n",
        "</html>\n",
        "\"\"\""
      ],
      "metadata": {
        "id": "fSh9Ms0v_6lH"
      },
      "execution_count": 18,
      "outputs": []
    },
    {
      "cell_type": "code",
      "source": [
        "template_string = \"\"\"\n",
        "<!DOCTYPE html>\n",
        "<html lang=\"en\">\n",
        "<head>\n",
        "    <meta charset=\"UTF-8\">\n",
        "    <title>Create Task</title>\n",
        "</head>\n",
        "<body>\n",
        "    <h1>Create Task</h1>\n",
        "    <form method=\"post\">\n",
        "        <label for=\"description\">Description</label>\n",
        "        <input type=\"text\" id=\"description\" name=\"description\" required>\n",
        "        <label for=\"status\">Status</label>\n",
        "        <select id=\"status\" name=\"status\">\n",
        "            <option value=\"0\">Incomplete</option>\n",
        "            <option value=\"1\">Complete</option>\n",
        "        </select>\n",
        "        <button type=\"submit\">Create</button>\n",
        "    </form>\n",
        "</body>\n",
        "</html>\n",
        "\"\"\""
      ],
      "metadata": {
        "id": "7ki-jjS6A-11"
      },
      "execution_count": 19,
      "outputs": []
    },
    {
      "cell_type": "code",
      "source": [
        "template_string = \"\"\"\n",
        "<!DOCTYPE html>\n",
        "<html lang=\"en\">\n",
        "<head>\n",
        "    <meta charset=\"UTF-8\">\n",
        "    <title>Update Task</title>\n",
        "</head>\n",
        "<body>\n",
        "    <h1>Update Task</h1>\n",
        "    <form method=\"post\">\n",
        "        <label for=\"description\">Description</label>\n",
        "        <input type=\"text\" id=\"description\" name=\"description\" value=\"{{ task.description }}\" required>\n",
        "        <label for=\"status\">Status</label>\n",
        "        <select id=\"status\" name=\"status\">\n",
        "            <option value=\"0\" {% if task.status == 0 %}selected{% endif %}>Incomplete</option>\n",
        "            <option value=\"1\" {% if task.status == 1 %}selected{% endif %}>Complete</option>\n",
        "        </select>\n",
        "        <button type=\"submit\">Update</button>\n",
        "    </form>\n",
        "</body>\n",
        "</html>\n",
        "\"\"\""
      ],
      "metadata": {
        "id": "QpAS59sRBJXL"
      },
      "execution_count": 20,
      "outputs": []
    },
    {
      "cell_type": "code",
      "source": [
        "template = Template(template_string)"
      ],
      "metadata": {
        "id": "kxlqG22rBysr"
      },
      "execution_count": 22,
      "outputs": []
    },
    {
      "cell_type": "code",
      "source": [
        "if __name__ == '__main__':\n",
        "    app.run(debug=True)"
      ],
      "metadata": {
        "colab": {
          "base_uri": "https://localhost:8080/"
        },
        "id": "Qz_y9KpcB7wc",
        "outputId": "ffcb2aa8-6439-406a-eb1a-e8b366564c8c"
      },
      "execution_count": 25,
      "outputs": [
        {
          "output_type": "stream",
          "name": "stdout",
          "text": [
            " * Serving Flask app '__main__'\n",
            " * Debug mode: on\n"
          ]
        },
        {
          "output_type": "stream",
          "name": "stderr",
          "text": [
            "INFO:werkzeug:\u001b[31m\u001b[1mWARNING: This is a development server. Do not use it in a production deployment. Use a production WSGI server instead.\u001b[0m\n",
            " * Running on http://127.0.0.1:5000\n",
            "INFO:werkzeug:\u001b[33mPress CTRL+C to quit\u001b[0m\n",
            "INFO:werkzeug: * Restarting with stat\n"
          ]
        }
      ]
    }
  ]
}